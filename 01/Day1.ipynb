{
 "cells": [
  {
   "cell_type": "markdown",
   "id": "91a930d1-955a-4e21-bacb-f7712953b638",
   "metadata": {},
   "source": [
    "# Day 1\n",
    "The newly-improved calibration document consists of lines of text; each line originally contained a specific calibration value that the Elves now need to recover. On each line, the calibration value can be found by combining the first digit and the last digit (in that order) to form a single two-digit number.\n",
    "\n",
    "For example:\n",
    "\n",
    "1abc2\n",
    "pqr3stu8vwx\n",
    "a1b2c3d4e5f\n",
    "treb7uchet\n",
    "\n",
    "In this example, the calibration values of these four lines are 12, 38, 15, and 77. Adding these together produces 142.\n",
    "\n",
    "Consider your entire calibration document. What is the sum of all of the calibration values?"
   ]
  },
  {
   "cell_type": "markdown",
   "id": "3fa25d0e-5baf-4290-b9ba-7e0b03dae7f0",
   "metadata": {},
   "source": [
    "I try to extract the numbers in that string with regex and sum it up."
   ]
  },
  {
   "cell_type": "code",
   "execution_count": 1,
   "id": "2e4bcc85-8d1b-403c-9d14-3211f2e4581b",
   "metadata": {},
   "outputs": [],
   "source": [
    "# a function to extract the numbers for each line\n",
    "import re\n",
    "def line_to_value(line: str) -> int:\n",
    "    r_num = re.compile(r\"(\\d)\")\n",
    "    num = r_num.findall(line)\n",
    "    return int(num[0]+num[-1])"
   ]
  },
  {
   "cell_type": "code",
   "execution_count": 2,
   "id": "fdada279-ce65-48df-80e9-d70787d1d65d",
   "metadata": {},
   "outputs": [
    {
     "name": "stdout",
     "output_type": "stream",
     "text": [
      "12\n",
      "38\n",
      "15\n",
      "77\n",
      "Summe: 142\n"
     ]
    }
   ],
   "source": [
    "# test the function\n",
    "test_input = [\n",
    "    \"1abc2\",\n",
    "    \"pqr3stu8vwx\",\n",
    "    \"a1b2c3d4e5f\",\n",
    "    \"treb7uchet\"\n",
    "]\n",
    "sum = 0\n",
    "for line in test_input:\n",
    "    number = line_to_value(line)\n",
    "    sum += number\n",
    "    print(number)\n",
    "print(\"Summe:\", sum)"
   ]
  },
  {
   "cell_type": "code",
   "execution_count": 3,
   "id": "b0272181-803e-4930-9004-cf2f51919c26",
   "metadata": {},
   "outputs": [
    {
     "name": "stdout",
     "output_type": "stream",
     "text": [
      "Summe: 53651\n"
     ]
    }
   ],
   "source": [
    "sum = 0\n",
    "with open(\"input.txt\") as file:\n",
    "    for line in file:\n",
    "        sum += line_to_value(line.strip())\n",
    "print(\"Summe:\", sum)"
   ]
  },
  {
   "cell_type": "markdown",
   "id": "abc7234e-2d0c-46a3-b196-7c9469001833",
   "metadata": {},
   "source": [
    "## Part II\n",
    "\n",
    "Equipped with this new information, you now need to find the real first and last digit on each line. For example:\n",
    "\n",
    "two1nine\n",
    "eightwothree\n",
    "abcone2threexyz\n",
    "xtwone3four\n",
    "4nineeightseven2\n",
    "zoneight234\n",
    "7pqrstsixteen\n",
    "In this example, the calibration values are 29, 83, 13, 24, 42, 14, and 76. Adding these together produces 281."
   ]
  },
  {
   "cell_type": "code",
   "execution_count": 4,
   "id": "7ab6256e-c96f-432f-9c8a-b15ab930c0cd",
   "metadata": {},
   "outputs": [],
   "source": [
    "import re\n",
    "def line_to_real_value(line: str) -> int:\n",
    "    r_num = re.compile(r\"(?=(\\d|one|two|three|four|five|six|seven|eight|nine))\")\n",
    "    num = r_num.findall(line)\n",
    "    match_dict = {\n",
    "        \"one\": \"1\",\n",
    "        \"two\": \"2\",\n",
    "        \"three\": \"3\",\n",
    "        \"four\": \"4\",\n",
    "        \"five\": \"5\",\n",
    "        \"six\": \"6\",\n",
    "        \"seven\": \"7\",\n",
    "        \"eight\": \"8\",\n",
    "        \"nine\": \"9\"\n",
    "    }\n",
    "    return int(match_dict.get(num[0], num[0]) + match_dict.get(num[-1], num[-1]))"
   ]
  },
  {
   "cell_type": "code",
   "execution_count": 5,
   "id": "35b06fec-979c-4191-a777-966ee1e09257",
   "metadata": {},
   "outputs": [
    {
     "name": "stdout",
     "output_type": "stream",
     "text": [
      "29\n",
      "83\n",
      "13\n",
      "24\n",
      "42\n",
      "14\n",
      "76\n",
      "Summe: 281\n"
     ]
    }
   ],
   "source": [
    "# test the function\n",
    "test_input = [\n",
    "    \"two1nine\",\n",
    "    \"eightwothree\",\n",
    "    \"abcone2threexyz\",\n",
    "    \"xtwone3four\",\n",
    "    \"4nineeightseven2\",\n",
    "    \"zoneight234\",\n",
    "    \"7pqrstsixteen\"\n",
    "]\n",
    "sum = 0\n",
    "for line in test_input:\n",
    "    number = line_to_real_value(line)\n",
    "    sum += number\n",
    "    print(number)\n",
    "print(\"Summe:\", sum)"
   ]
  },
  {
   "cell_type": "code",
   "execution_count": 6,
   "id": "d89b96b7-e22f-4343-bf78-4cfadceb662f",
   "metadata": {},
   "outputs": [
    {
     "name": "stdout",
     "output_type": "stream",
     "text": [
      "Summe: 53894\n"
     ]
    }
   ],
   "source": [
    "sum = 0\n",
    "with open(\"input.txt\") as file:\n",
    "    for line in file:\n",
    "        sum += line_to_real_value(line.strip())\n",
    "print(\"Summe:\", sum)"
   ]
  },
  {
   "cell_type": "markdown",
   "id": "312d06b2-d0ef-415f-86e4-5909f904d2ee",
   "metadata": {},
   "source": [
    "Missed some first attemts.\n",
    "\n",
    "there can be double words or combined words for two numbers i. e.\n",
    "eightwo wich can be transformed to eight and two"
   ]
  }
 ],
 "metadata": {
  "kernelspec": {
   "display_name": "Python 3 (ipykernel)",
   "language": "python",
   "name": "python3"
  },
  "language_info": {
   "codemirror_mode": {
    "name": "ipython",
    "version": 3
   },
   "file_extension": ".py",
   "mimetype": "text/x-python",
   "name": "python",
   "nbconvert_exporter": "python",
   "pygments_lexer": "ipython3",
   "version": "3.10.8"
  }
 },
 "nbformat": 4,
 "nbformat_minor": 5
}
